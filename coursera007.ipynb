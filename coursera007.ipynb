{
  "nbformat": 4,
  "nbformat_minor": 0,
  "metadata": {
    "colab": {
      "name": "coursera007.ipynb",
      "provenance": [],
      "authorship_tag": "ABX9TyPaJklVmJsvg/ag6LiZPD8N",
      "include_colab_link": true
    },
    "kernelspec": {
      "name": "python3",
      "display_name": "Python 3"
    }
  },
  "cells": [
    {
      "cell_type": "markdown",
      "metadata": {
        "id": "view-in-github",
        "colab_type": "text"
      },
      "source": [
        "<a href=\"https://colab.research.google.com/github/Insafprog/bind/blob/main/coursera007.ipynb\" target=\"_parent\"><img src=\"https://colab.research.google.com/assets/colab-badge.svg\" alt=\"Open In Colab\"/></a>"
      ]
    },
    {
      "cell_type": "code",
      "metadata": {
        "id": "yTgtaHTXq03h"
      },
      "source": [
        "import numpy as np\n",
        "from sklearn.svm import SVC"
      ],
      "execution_count": 3,
      "outputs": []
    },
    {
      "cell_type": "code",
      "metadata": {
        "colab": {
          "base_uri": "https://localhost:8080/"
        },
        "id": "hg-wAC4HrAtJ",
        "outputId": "075f79c9-767a-4c96-9842-93e73e5cda0b"
      },
      "source": [
        "train_data = np.genfromtxt('https://d3c33hcgiwev3.cloudfront.net/_f6284c13db83a3074c2b987f714f24f5_svm-data.csv?Expires=1606521600&Signature=gBh5uHn7lgmmJZMKq0-k6w1Rp8r6tmbGZ7mpTebiobReqByKmRgC1j666eeKcPu-smU20ClaMDsHqh1socreGuXwgrzBg0beGRrgkDIRMv-LRBIo~9-Vd3NubsoiwGXU8coFnVT722O3Pi~QnO2JtdP1imqYwqw7kCBbxaWTOcs_&Key-Pair-Id=APKAJLTNE6QMUY6HBC5A', delimiter=',')\n",
        "train_data"
      ],
      "execution_count": 2,
      "outputs": [
        {
          "output_type": "execute_result",
          "data": {
            "text/plain": [
              "array([[0.  , 0.7 , 0.29],\n",
              "       [1.  , 0.23, 0.55],\n",
              "       [0.  , 0.72, 0.42],\n",
              "       [0.  , 0.98, 0.68],\n",
              "       [0.  , 0.48, 0.39],\n",
              "       [1.  , 0.34, 0.73],\n",
              "       [0.  , 0.44, 0.06],\n",
              "       [1.  , 0.4 , 0.74],\n",
              "       [0.  , 0.18, 0.18],\n",
              "       [1.  , 0.53, 0.53]])"
            ]
          },
          "metadata": {
            "tags": []
          },
          "execution_count": 2
        }
      ]
    },
    {
      "cell_type": "code",
      "metadata": {
        "id": "xi9z55RvtUVF"
      },
      "source": [
        "X = train_data[:,1:]\n",
        "y = train_data[:,0]"
      ],
      "execution_count": 5,
      "outputs": []
    },
    {
      "cell_type": "code",
      "metadata": {
        "colab": {
          "base_uri": "https://localhost:8080/"
        },
        "id": "1c7OvEpLr4be",
        "outputId": "079e5506-cd24-4f34-cd1e-e4020d44fbf5"
      },
      "source": [
        "learn_classificator = SVC(kernel='linear', C=100000, random_state=241)\n",
        "learn_classificator"
      ],
      "execution_count": 4,
      "outputs": [
        {
          "output_type": "execute_result",
          "data": {
            "text/plain": [
              "SVC(C=100000, break_ties=False, cache_size=200, class_weight=None, coef0=0.0,\n",
              "    decision_function_shape='ovr', degree=3, gamma='scale', kernel='linear',\n",
              "    max_iter=-1, probability=False, random_state=241, shrinking=True, tol=0.001,\n",
              "    verbose=False)"
            ]
          },
          "metadata": {
            "tags": []
          },
          "execution_count": 4
        }
      ]
    },
    {
      "cell_type": "code",
      "metadata": {
        "colab": {
          "base_uri": "https://localhost:8080/"
        },
        "id": "mhRV6xX3s3YW",
        "outputId": "3dfb494f-8d61-43fd-cb30-b1d09000e0fe"
      },
      "source": [
        "learn_classificator.fit(X, y)"
      ],
      "execution_count": 6,
      "outputs": [
        {
          "output_type": "execute_result",
          "data": {
            "text/plain": [
              "SVC(C=100000, break_ties=False, cache_size=200, class_weight=None, coef0=0.0,\n",
              "    decision_function_shape='ovr', degree=3, gamma='scale', kernel='linear',\n",
              "    max_iter=-1, probability=False, random_state=241, shrinking=True, tol=0.001,\n",
              "    verbose=False)"
            ]
          },
          "metadata": {
            "tags": []
          },
          "execution_count": 6
        }
      ]
    },
    {
      "cell_type": "code",
      "metadata": {
        "colab": {
          "base_uri": "https://localhost:8080/"
        },
        "id": "B_2u5BU1tjxz",
        "outputId": "60cd3856-7c5c-4a90-9fac-e3a425f97978"
      },
      "source": [
        "learn_classificator.support_"
      ],
      "execution_count": 7,
      "outputs": [
        {
          "output_type": "execute_result",
          "data": {
            "text/plain": [
              "array([3, 4, 9], dtype=int32)"
            ]
          },
          "metadata": {
            "tags": []
          },
          "execution_count": 7
        }
      ]
    }
  ]
}